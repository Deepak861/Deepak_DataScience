{
 "cells": [
  {
   "cell_type": "markdown",
   "id": "2378c329-4ea1-4761-a1b8-8968abba1360",
   "metadata": {
    "tags": []
   },
   "source": [
    "# Data Science Tools and Ecosystem"
   ]
  },
  {
   "cell_type": "markdown",
   "id": "858d04cd-5a51-452c-83db-ff477f623ec1",
   "metadata": {},
   "source": [
    "In this notebook, Data Science Tools and Ecosystem are summarized."
   ]
  },
  {
   "cell_type": "markdown",
   "id": "7e1a9e0b-6cb4-46af-bd44-162df74dc812",
   "metadata": {
    "tags": []
   },
   "source": [
    "Some of the popular languages that Data Scientists use are:\n",
    "1. Python\n",
    "2. R\n",
    "3. SQL\n",
    "4. Java\n",
    "5. Julia\n",
    "6. Scala"
   ]
  },
  {
   "cell_type": "markdown",
   "id": "d30f08b4-85a9-4472-8771-e1b52b8a6971",
   "metadata": {},
   "source": [
    "Some of the commonly used libraries used by Data Scientists include:\n",
    "1. TensorFlow\n",
    "2. NumPy\n",
    "3. SciPy\n",
    "4. Pandas\n",
    "5. Matplotlib"
   ]
  },
  {
   "cell_type": "markdown",
   "id": "ddb727f2-d2dd-4d6e-8baf-b9ccd5cd72bf",
   "metadata": {},
   "source": [
    "|Data Science Tools|\n",
    "|------------------|\n",
    "|      MySql       |\n",
    "|    PostgreSQL    |\n",
    "|     Hadoop       | \n"
   ]
  },
  {
   "cell_type": "markdown",
   "id": "96635911-f468-43f7-a12b-a167e64b6884",
   "metadata": {},
   "source": [
    "### Below are a few examples of evaluating arithmetic expressions in Python"
   ]
  },
  {
   "cell_type": "code",
   "execution_count": 3,
   "id": "fa0ad11a-e4e3-40e4-9292-8c6cc0dd323f",
   "metadata": {
    "tags": []
   },
   "outputs": [
    {
     "data": {
      "text/plain": [
       "17"
      ]
     },
     "execution_count": 3,
     "metadata": {},
     "output_type": "execute_result"
    }
   ],
   "source": [
    "# This a simple arithmetic expression to mutiply then add integers\n",
    "(3*4)+5"
   ]
  },
  {
   "cell_type": "code",
   "execution_count": 4,
   "id": "676d91a7-0f6d-45a8-8a80-e07050ea3926",
   "metadata": {
    "tags": []
   },
   "outputs": [
    {
     "data": {
      "text/plain": [
       "3.3333333333333335"
      ]
     },
     "execution_count": 4,
     "metadata": {},
     "output_type": "execute_result"
    }
   ],
   "source": [
    "# This will convert 200 minutes to hours by diving by 60\n",
    "200/60"
   ]
  },
  {
   "cell_type": "markdown",
   "id": "6750893b-ec94-45ae-a926-7abd1e240076",
   "metadata": {},
   "source": [
    "__Objectives:__\n",
    "- List popular languages for Data Science\n",
    "- Languages of Data Science\n",
    "- Packages, APIs, DataSets and Models "
   ]
  },
  {
   "cell_type": "markdown",
   "id": "6f6a2fd0-6624-41ae-a11e-0132b34b2bf6",
   "metadata": {
    "tags": []
   },
   "source": [
    "## Author\n",
    "Deepak Talekar"
   ]
  },
  {
   "cell_type": "code",
   "execution_count": null,
   "id": "366adc95-b6a4-476f-ac0c-1f3835c65d3e",
   "metadata": {},
   "outputs": [],
   "source": []
  }
 ],
 "metadata": {
  "kernelspec": {
   "display_name": "Python",
   "language": "python",
   "name": "conda-env-python-py"
  },
  "language_info": {
   "codemirror_mode": {
    "name": "ipython",
    "version": 3
   },
   "file_extension": ".py",
   "mimetype": "text/x-python",
   "name": "python",
   "nbconvert_exporter": "python",
   "pygments_lexer": "ipython3",
   "version": "3.7.12"
  }
 },
 "nbformat": 4,
 "nbformat_minor": 5
}
